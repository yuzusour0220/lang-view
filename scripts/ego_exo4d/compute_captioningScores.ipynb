{
 "cells": [
  {
   "cell_type": "code",
   "execution_count": 4,
   "id": "a8b32c98-6a63-4e17-82cc-fb60594a1a4e",
   "metadata": {},
   "outputs": [],
   "source": [
    "import json\n",
    "import os\n",
    "import pickle\n",
    "from tqdm import tqdm\n",
    "import numpy as np"
   ]
  },
  {
   "cell_type": "code",
   "execution_count": 5,
   "id": "10758f6f-5370-496e-a64c-73aa5eaa867f",
   "metadata": {},
   "outputs": [],
   "source": [
    "def ospif(file):\n",
    "    return os.path.isfile(file)\n",
    "\n",
    "def ospid(dir_):\n",
    "    return os.path.isdir(dir_)\n",
    "\n",
    "def pkl_dmp(obj, fp):\n",
    "    with open(fp, \"wb\") as fo:\n",
    "        pickle.dump(obj, fo, protocol=pickle.HIGHEST_PROTOCOL)\n",
    "        \n",
    "def pkl_ld(fp):\n",
    "    with open(fp, \"rb\") as fi:\n",
    "        pkl_content = pickle.load(fi)\n",
    "    return pkl_content\n",
    "\n",
    "def json_ld(fp):\n",
    "    with open(fp, \"r\") as fi:\n",
    "        json_content = json.load(fi)\n",
    "    return json_content\n",
    "\n",
    "def json_dmp(obj, fp):\n",
    "    with open(fp, \"w\") as fo:\n",
    "        json.dump(obj, fo)"
   ]
  },
  {
   "cell_type": "code",
   "execution_count": 6,
   "id": "6498fce7-d8a9-4422-b137-1b2b209c3463",
   "metadata": {},
   "outputs": [],
   "source": [
    "METRICS = [\"cider\", \"meteor\", \"verb_iou\",  \"noun_iou\", \"nounChunk_iou\"]\n",
    "\n",
    "ROOT_DR = \"../../runs\"\n",
    "assert ospid(ROOT_DR)\n",
    "\n",
    "MODEL_NAME = \"egoExo4d_release\"\n",
    "\n",
    "CAPTIONING_METRICS_FILES_DR = f\"{ROOT_DR}/{MODEL_NAME}/captioningMetrics_files\"\n",
    "assert ospid(CAPTIONING_METRICS_FILES_DR), print(CAPTIONING_METRICS_FILES_DR)\n"
   ]
  },
  {
   "cell_type": "code",
   "execution_count": 7,
   "id": "88357b7f",
   "metadata": {},
   "outputs": [
    {
     "name": "stdout",
     "output_type": "stream",
     "text": [
      "cider:  19.229111725482284\n",
      "meteor:  56.650653368087\n",
      "verb_iou:  43.44458987783595\n",
      "noun_iou:  46.79137579988365\n",
      "nounChunk_iou:  38.782099227125414\n"
     ]
    }
   ],
   "source": [
    "for mtrc in METRICS:\n",
    "    mtrc_fp = f\"{CAPTIONING_METRICS_FILES_DR}/{mtrc}_outputs.json\"\n",
    "    assert ospif(mtrc_fp), print(mtrc_fp)\n",
    "\n",
    "    mtrc_lst = json_ld(mtrc_fp)\n",
    "    \n",
    "    cnt = 0\n",
    "    lst_alMtrcs = []\n",
    "    for ele in mtrc_lst:        \n",
    "        if ele[0] != float('-inf'):\n",
    "            lst_alMtrcs.append(ele[0])\n",
    "\n",
    "    print(f\"{mtrc}: \", np.mean(lst_alMtrcs) * 100)\n"
   ]
  },
  {
   "cell_type": "code",
   "execution_count": null,
   "id": "c70c7c81-681e-4890-bba0-d5c859d9684b",
   "metadata": {},
   "outputs": [],
   "source": []
  }
 ],
 "metadata": {
  "kernelspec": {
   "display_name": "lang_venv",
   "language": "python",
   "name": "python3"
  },
  "language_info": {
   "codemirror_mode": {
    "name": "ipython",
    "version": 3
   },
   "file_extension": ".py",
   "mimetype": "text/x-python",
   "name": "python",
   "nbconvert_exporter": "python",
   "pygments_lexer": "ipython3",
   "version": "3.9.18"
  }
 },
 "nbformat": 4,
 "nbformat_minor": 5
}
