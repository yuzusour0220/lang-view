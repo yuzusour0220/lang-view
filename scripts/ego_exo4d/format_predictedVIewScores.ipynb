{
 "cells": [
  {
   "cell_type": "code",
   "execution_count": 1,
   "id": "72bbf232-6588-40da-8e6a-5ada352a568e",
   "metadata": {},
   "outputs": [],
   "source": [
    "import json\n",
    "import os\n",
    "import pickle\n",
    "from tqdm import tqdm\n",
    "import numpy as np"
   ]
  },
  {
   "cell_type": "code",
   "execution_count": 2,
   "id": "cdfd4a6c-4c09-434f-8cf3-bf6539df903c",
   "metadata": {},
   "outputs": [],
   "source": [
    "def ospif(file):\n",
    "    return os.path.isfile(file)\n",
    "\n",
    "def ospid(dir_):\n",
    "    return os.path.isdir(dir_)\n",
    "\n",
    "def pkl_dmp(obj, fp):\n",
    "    with open(fp, \"wb\") as fo:\n",
    "        pickle.dump(obj, fo, protocol=pickle.HIGHEST_PROTOCOL)\n",
    "        \n",
    "def pkl_ld(fp):\n",
    "    with open(fp, \"rb\") as fi:\n",
    "        pkl_content = pickle.load(fi)\n",
    "    return pkl_content\n",
    "\n",
    "def json_ld(fp):\n",
    "    with open(fp, \"r\") as fi:\n",
    "        json_content = json.load(fi)\n",
    "    return json_content\n",
    "\n",
    "def json_dmp(obj, fp, indent=None):\n",
    "    with open(fp, \"w\") as fo:\n",
    "        if indent is None:\n",
    "            json.dump(obj, fo)\n",
    "        else:\n",
    "            assert isinstance(indent, int)\n",
    "            json.dump(obj, fo, indent=indent)"
   ]
  },
  {
   "cell_type": "code",
   "execution_count": 3,
   "id": "765988ae-e2c1-49e7-8ae8-69c66792a836",
   "metadata": {},
   "outputs": [],
   "source": [
    "DATASET_FP = f\"../../data/ego_exo4d/labels/test.pkl\"\n",
    "assert ospif(DATASET_FP), print(DATASET_FP)\n",
    "\n",
    "RESULTS_ROOT_DR = f\"../../runs\"\n",
    "assert ospid(RESULTS_ROOT_DR)\n",
    "\n",
    "RESULTS_SUBDIR = \"egoExo4d_release\" \n",
    "\n",
    "RESULTS_FP = f\"{RESULTS_ROOT_DR}/{RESULTS_SUBDIR}/test_index2logits_checkpoint-maxCaptioningScore.json\"\n",
    "assert ospif(RESULTS_FP)\n",
    "\n",
    "DUMP_FP = f\"{RESULTS_ROOT_DR}/{RESULTS_SUBDIR}/take2startNendTimestamp2predScores_checkpoint-maxCaptioniningScore.pkl\" "
   ]
  },
  {
   "cell_type": "code",
   "execution_count": 4,
   "id": "91bdef13-ce14-41fc-ae75-10af1e753334",
   "metadata": {},
   "outputs": [],
   "source": [
    "dct_rslts =json_ld(RESULTS_FP)\n",
    "dct_dtst = pkl_ld(DATASET_FP)"
   ]
  },
  {
   "cell_type": "code",
   "execution_count": 5,
   "id": "77f0973c-9126-4c93-894b-83e5a9120269",
   "metadata": {},
   "outputs": [],
   "source": [
    "cnt = 0\n",
    "for k, v in dct_dtst.items():\n",
    "    cnt += len(v)\n",
    "assert cnt == len(dct_rslts)"
   ]
  },
  {
   "cell_type": "code",
   "execution_count": 6,
   "id": "aae5f7ca-7271-4377-8311-79f7ee43828d",
   "metadata": {},
   "outputs": [],
   "source": [
    "dmp_dct = {}\n",
    "idx = 0\n",
    "for k, v in dct_dtst.items():\n",
    "    assert k not in dmp_dct\n",
    "    dmp_dct[k] = {}\n",
    "    for k1 in v:\n",
    "        strt_tmstmp = k1[1]\n",
    "        end_tmstmp = k1[2]\n",
    "        assert str(idx) in dct_rslts\n",
    "\n",
    "        # print((strt_tmstmp, end_tmstmp))\n",
    "        assert (strt_tmstmp, end_tmstmp) not in dmp_dct[k]\n",
    "        assert isinstance(dct_rslts[str(idx)], list)\n",
    "        assert isinstance(dct_rslts[str(idx)][0], float)\n",
    "        dmp_dct[k][(strt_tmstmp, end_tmstmp)] = dct_rslts[str(idx)]\n",
    "        \n",
    "        idx += 1\n",
    "        # break\n",
    "    # break"
   ]
  },
  {
   "cell_type": "code",
   "execution_count": 7,
   "id": "5a6004f7-0494-4fe2-8903-8a2d0cb90aa5",
   "metadata": {},
   "outputs": [],
   "source": [
    "pkl_dmp(dmp_dct, DUMP_FP)"
   ]
  },
  {
   "cell_type": "code",
   "execution_count": null,
   "id": "b3f4040e",
   "metadata": {},
   "outputs": [],
   "source": []
  }
 ],
 "metadata": {
  "kernelspec": {
   "display_name": "lang_venv",
   "language": "python",
   "name": "python3"
  },
  "language_info": {
   "codemirror_mode": {
    "name": "ipython",
    "version": 3
   },
   "file_extension": ".py",
   "mimetype": "text/x-python",
   "name": "python",
   "nbconvert_exporter": "python",
   "pygments_lexer": "ipython3",
   "version": "3.9.18"
  }
 },
 "nbformat": 4,
 "nbformat_minor": 5
}
